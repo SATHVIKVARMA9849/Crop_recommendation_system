{
  "cells": [
    {
      "cell_type": "markdown",
      "metadata": {
        "id": "jEEVtA9TD0qn"
      },
      "source": [
        "# **CROP_RECOMMENDATION_SYSTEM**\n"
      ]
    },
    {
      "cell_type": "code",
      "execution_count": 1,
      "metadata": {
        "id": "wFEttuyaKXjX"
      },
      "outputs": [],
      "source": [
        "#importing libraries\n",
        "import numpy as np\n",
        "import pandas as pd\n",
        "import matplotlib.pyplot as plt\n",
        "import seaborn as sns\n",
        "from __future__ import print_function\n",
        "from sklearn.metrics import classification_report\n",
        "from sklearn import metrics\n",
        "from sklearn import tree\n",
        "import warnings\n",
        "warnings.filterwarnings('ignore')\n",
        "from sklearn.metrics import accuracy_score, precision_score, recall_score, f1_score, confusion_matrix\n"
      ]
    },
    {
      "cell_type": "markdown",
      "metadata": {
        "id": "yECd2u43jO9R"
      },
      "source": [
        "**IMPORTING DATA**\n",
        "\n",
        "---\n",
        "\n"
      ]
    },
    {
      "cell_type": "code",
      "execution_count": 2,
      "metadata": {
        "id": "f5lTaiUWjH8B"
      },
      "outputs": [],
      "source": [
        "crop=pd.read_csv(\"Crop_recommendation.csv\")\n",
        "df=crop"
      ]
    },
    {
      "cell_type": "code",
      "execution_count": 3,
      "metadata": {
        "colab": {
          "base_uri": "https://localhost:8080/",
          "height": 423
        },
        "id": "ZuC7WJgpjeX8",
        "outputId": "be78d853-3d62-4d95-b126-139352192575"
      },
      "outputs": [
        {
          "data": {
            "text/html": [
              "<div>\n",
              "<style scoped>\n",
              "    .dataframe tbody tr th:only-of-type {\n",
              "        vertical-align: middle;\n",
              "    }\n",
              "\n",
              "    .dataframe tbody tr th {\n",
              "        vertical-align: top;\n",
              "    }\n",
              "\n",
              "    .dataframe thead th {\n",
              "        text-align: right;\n",
              "    }\n",
              "</style>\n",
              "<table border=\"1\" class=\"dataframe\">\n",
              "  <thead>\n",
              "    <tr style=\"text-align: right;\">\n",
              "      <th></th>\n",
              "      <th>N</th>\n",
              "      <th>P</th>\n",
              "      <th>K</th>\n",
              "      <th>temperature</th>\n",
              "      <th>humidity</th>\n",
              "      <th>ph</th>\n",
              "      <th>rainfall</th>\n",
              "      <th>label</th>\n",
              "    </tr>\n",
              "  </thead>\n",
              "  <tbody>\n",
              "    <tr>\n",
              "      <th>0</th>\n",
              "      <td>90</td>\n",
              "      <td>42</td>\n",
              "      <td>43</td>\n",
              "      <td>20.879744</td>\n",
              "      <td>82.002744</td>\n",
              "      <td>6.502985</td>\n",
              "      <td>202.935536</td>\n",
              "      <td>rice</td>\n",
              "    </tr>\n",
              "    <tr>\n",
              "      <th>1</th>\n",
              "      <td>85</td>\n",
              "      <td>58</td>\n",
              "      <td>41</td>\n",
              "      <td>21.770462</td>\n",
              "      <td>80.319644</td>\n",
              "      <td>7.038096</td>\n",
              "      <td>226.655537</td>\n",
              "      <td>rice</td>\n",
              "    </tr>\n",
              "    <tr>\n",
              "      <th>2</th>\n",
              "      <td>60</td>\n",
              "      <td>55</td>\n",
              "      <td>44</td>\n",
              "      <td>23.004459</td>\n",
              "      <td>82.320763</td>\n",
              "      <td>7.840207</td>\n",
              "      <td>263.964248</td>\n",
              "      <td>rice</td>\n",
              "    </tr>\n",
              "    <tr>\n",
              "      <th>3</th>\n",
              "      <td>74</td>\n",
              "      <td>35</td>\n",
              "      <td>40</td>\n",
              "      <td>26.491096</td>\n",
              "      <td>80.158363</td>\n",
              "      <td>6.980401</td>\n",
              "      <td>242.864034</td>\n",
              "      <td>rice</td>\n",
              "    </tr>\n",
              "    <tr>\n",
              "      <th>4</th>\n",
              "      <td>78</td>\n",
              "      <td>42</td>\n",
              "      <td>42</td>\n",
              "      <td>20.130175</td>\n",
              "      <td>81.604873</td>\n",
              "      <td>7.628473</td>\n",
              "      <td>262.717340</td>\n",
              "      <td>rice</td>\n",
              "    </tr>\n",
              "    <tr>\n",
              "      <th>...</th>\n",
              "      <td>...</td>\n",
              "      <td>...</td>\n",
              "      <td>...</td>\n",
              "      <td>...</td>\n",
              "      <td>...</td>\n",
              "      <td>...</td>\n",
              "      <td>...</td>\n",
              "      <td>...</td>\n",
              "    </tr>\n",
              "    <tr>\n",
              "      <th>2195</th>\n",
              "      <td>107</td>\n",
              "      <td>34</td>\n",
              "      <td>32</td>\n",
              "      <td>26.774637</td>\n",
              "      <td>66.413269</td>\n",
              "      <td>6.780064</td>\n",
              "      <td>177.774507</td>\n",
              "      <td>coffee</td>\n",
              "    </tr>\n",
              "    <tr>\n",
              "      <th>2196</th>\n",
              "      <td>99</td>\n",
              "      <td>15</td>\n",
              "      <td>27</td>\n",
              "      <td>27.417112</td>\n",
              "      <td>56.636362</td>\n",
              "      <td>6.086922</td>\n",
              "      <td>127.924610</td>\n",
              "      <td>coffee</td>\n",
              "    </tr>\n",
              "    <tr>\n",
              "      <th>2197</th>\n",
              "      <td>118</td>\n",
              "      <td>33</td>\n",
              "      <td>30</td>\n",
              "      <td>24.131797</td>\n",
              "      <td>67.225123</td>\n",
              "      <td>6.362608</td>\n",
              "      <td>173.322839</td>\n",
              "      <td>coffee</td>\n",
              "    </tr>\n",
              "    <tr>\n",
              "      <th>2198</th>\n",
              "      <td>117</td>\n",
              "      <td>32</td>\n",
              "      <td>34</td>\n",
              "      <td>26.272418</td>\n",
              "      <td>52.127394</td>\n",
              "      <td>6.758793</td>\n",
              "      <td>127.175293</td>\n",
              "      <td>coffee</td>\n",
              "    </tr>\n",
              "    <tr>\n",
              "      <th>2199</th>\n",
              "      <td>104</td>\n",
              "      <td>18</td>\n",
              "      <td>30</td>\n",
              "      <td>23.603016</td>\n",
              "      <td>60.396475</td>\n",
              "      <td>6.779833</td>\n",
              "      <td>140.937041</td>\n",
              "      <td>coffee</td>\n",
              "    </tr>\n",
              "  </tbody>\n",
              "</table>\n",
              "<p>2200 rows × 8 columns</p>\n",
              "</div>"
            ],
            "text/plain": [
              "        N   P   K  temperature   humidity        ph    rainfall   label\n",
              "0      90  42  43    20.879744  82.002744  6.502985  202.935536    rice\n",
              "1      85  58  41    21.770462  80.319644  7.038096  226.655537    rice\n",
              "2      60  55  44    23.004459  82.320763  7.840207  263.964248    rice\n",
              "3      74  35  40    26.491096  80.158363  6.980401  242.864034    rice\n",
              "4      78  42  42    20.130175  81.604873  7.628473  262.717340    rice\n",
              "...   ...  ..  ..          ...        ...       ...         ...     ...\n",
              "2195  107  34  32    26.774637  66.413269  6.780064  177.774507  coffee\n",
              "2196   99  15  27    27.417112  56.636362  6.086922  127.924610  coffee\n",
              "2197  118  33  30    24.131797  67.225123  6.362608  173.322839  coffee\n",
              "2198  117  32  34    26.272418  52.127394  6.758793  127.175293  coffee\n",
              "2199  104  18  30    23.603016  60.396475  6.779833  140.937041  coffee\n",
              "\n",
              "[2200 rows x 8 columns]"
            ]
          },
          "execution_count": 3,
          "metadata": {},
          "output_type": "execute_result"
        }
      ],
      "source": [
        "crop"
      ]
    },
    {
      "cell_type": "code",
      "execution_count": 4,
      "metadata": {
        "colab": {
          "base_uri": "https://localhost:8080/",
          "height": 206
        },
        "id": "p-yhcmLujgQJ",
        "outputId": "34773b3a-9be7-40e1-ccb1-c7b643dc82cd"
      },
      "outputs": [
        {
          "data": {
            "text/html": [
              "<div>\n",
              "<style scoped>\n",
              "    .dataframe tbody tr th:only-of-type {\n",
              "        vertical-align: middle;\n",
              "    }\n",
              "\n",
              "    .dataframe tbody tr th {\n",
              "        vertical-align: top;\n",
              "    }\n",
              "\n",
              "    .dataframe thead th {\n",
              "        text-align: right;\n",
              "    }\n",
              "</style>\n",
              "<table border=\"1\" class=\"dataframe\">\n",
              "  <thead>\n",
              "    <tr style=\"text-align: right;\">\n",
              "      <th></th>\n",
              "      <th>N</th>\n",
              "      <th>P</th>\n",
              "      <th>K</th>\n",
              "      <th>temperature</th>\n",
              "      <th>humidity</th>\n",
              "      <th>ph</th>\n",
              "      <th>rainfall</th>\n",
              "      <th>label</th>\n",
              "    </tr>\n",
              "  </thead>\n",
              "  <tbody>\n",
              "    <tr>\n",
              "      <th>0</th>\n",
              "      <td>90</td>\n",
              "      <td>42</td>\n",
              "      <td>43</td>\n",
              "      <td>20.879744</td>\n",
              "      <td>82.002744</td>\n",
              "      <td>6.502985</td>\n",
              "      <td>202.935536</td>\n",
              "      <td>rice</td>\n",
              "    </tr>\n",
              "    <tr>\n",
              "      <th>1</th>\n",
              "      <td>85</td>\n",
              "      <td>58</td>\n",
              "      <td>41</td>\n",
              "      <td>21.770462</td>\n",
              "      <td>80.319644</td>\n",
              "      <td>7.038096</td>\n",
              "      <td>226.655537</td>\n",
              "      <td>rice</td>\n",
              "    </tr>\n",
              "    <tr>\n",
              "      <th>2</th>\n",
              "      <td>60</td>\n",
              "      <td>55</td>\n",
              "      <td>44</td>\n",
              "      <td>23.004459</td>\n",
              "      <td>82.320763</td>\n",
              "      <td>7.840207</td>\n",
              "      <td>263.964248</td>\n",
              "      <td>rice</td>\n",
              "    </tr>\n",
              "    <tr>\n",
              "      <th>3</th>\n",
              "      <td>74</td>\n",
              "      <td>35</td>\n",
              "      <td>40</td>\n",
              "      <td>26.491096</td>\n",
              "      <td>80.158363</td>\n",
              "      <td>6.980401</td>\n",
              "      <td>242.864034</td>\n",
              "      <td>rice</td>\n",
              "    </tr>\n",
              "    <tr>\n",
              "      <th>4</th>\n",
              "      <td>78</td>\n",
              "      <td>42</td>\n",
              "      <td>42</td>\n",
              "      <td>20.130175</td>\n",
              "      <td>81.604873</td>\n",
              "      <td>7.628473</td>\n",
              "      <td>262.717340</td>\n",
              "      <td>rice</td>\n",
              "    </tr>\n",
              "  </tbody>\n",
              "</table>\n",
              "</div>"
            ],
            "text/plain": [
              "    N   P   K  temperature   humidity        ph    rainfall label\n",
              "0  90  42  43    20.879744  82.002744  6.502985  202.935536  rice\n",
              "1  85  58  41    21.770462  80.319644  7.038096  226.655537  rice\n",
              "2  60  55  44    23.004459  82.320763  7.840207  263.964248  rice\n",
              "3  74  35  40    26.491096  80.158363  6.980401  242.864034  rice\n",
              "4  78  42  42    20.130175  81.604873  7.628473  262.717340  rice"
            ]
          },
          "execution_count": 4,
          "metadata": {},
          "output_type": "execute_result"
        }
      ],
      "source": [
        "crop.head()"
      ]
    },
    {
      "cell_type": "code",
      "execution_count": 5,
      "metadata": {
        "colab": {
          "base_uri": "https://localhost:8080/",
          "height": 206
        },
        "id": "tZHRo7fEjjl2",
        "outputId": "6645058d-783a-46c2-c176-47099c24196a"
      },
      "outputs": [
        {
          "data": {
            "text/html": [
              "<div>\n",
              "<style scoped>\n",
              "    .dataframe tbody tr th:only-of-type {\n",
              "        vertical-align: middle;\n",
              "    }\n",
              "\n",
              "    .dataframe tbody tr th {\n",
              "        vertical-align: top;\n",
              "    }\n",
              "\n",
              "    .dataframe thead th {\n",
              "        text-align: right;\n",
              "    }\n",
              "</style>\n",
              "<table border=\"1\" class=\"dataframe\">\n",
              "  <thead>\n",
              "    <tr style=\"text-align: right;\">\n",
              "      <th></th>\n",
              "      <th>N</th>\n",
              "      <th>P</th>\n",
              "      <th>K</th>\n",
              "      <th>temperature</th>\n",
              "      <th>humidity</th>\n",
              "      <th>ph</th>\n",
              "      <th>rainfall</th>\n",
              "      <th>label</th>\n",
              "    </tr>\n",
              "  </thead>\n",
              "  <tbody>\n",
              "    <tr>\n",
              "      <th>2195</th>\n",
              "      <td>107</td>\n",
              "      <td>34</td>\n",
              "      <td>32</td>\n",
              "      <td>26.774637</td>\n",
              "      <td>66.413269</td>\n",
              "      <td>6.780064</td>\n",
              "      <td>177.774507</td>\n",
              "      <td>coffee</td>\n",
              "    </tr>\n",
              "    <tr>\n",
              "      <th>2196</th>\n",
              "      <td>99</td>\n",
              "      <td>15</td>\n",
              "      <td>27</td>\n",
              "      <td>27.417112</td>\n",
              "      <td>56.636362</td>\n",
              "      <td>6.086922</td>\n",
              "      <td>127.924610</td>\n",
              "      <td>coffee</td>\n",
              "    </tr>\n",
              "    <tr>\n",
              "      <th>2197</th>\n",
              "      <td>118</td>\n",
              "      <td>33</td>\n",
              "      <td>30</td>\n",
              "      <td>24.131797</td>\n",
              "      <td>67.225123</td>\n",
              "      <td>6.362608</td>\n",
              "      <td>173.322839</td>\n",
              "      <td>coffee</td>\n",
              "    </tr>\n",
              "    <tr>\n",
              "      <th>2198</th>\n",
              "      <td>117</td>\n",
              "      <td>32</td>\n",
              "      <td>34</td>\n",
              "      <td>26.272418</td>\n",
              "      <td>52.127394</td>\n",
              "      <td>6.758793</td>\n",
              "      <td>127.175293</td>\n",
              "      <td>coffee</td>\n",
              "    </tr>\n",
              "    <tr>\n",
              "      <th>2199</th>\n",
              "      <td>104</td>\n",
              "      <td>18</td>\n",
              "      <td>30</td>\n",
              "      <td>23.603016</td>\n",
              "      <td>60.396475</td>\n",
              "      <td>6.779833</td>\n",
              "      <td>140.937041</td>\n",
              "      <td>coffee</td>\n",
              "    </tr>\n",
              "  </tbody>\n",
              "</table>\n",
              "</div>"
            ],
            "text/plain": [
              "        N   P   K  temperature   humidity        ph    rainfall   label\n",
              "2195  107  34  32    26.774637  66.413269  6.780064  177.774507  coffee\n",
              "2196   99  15  27    27.417112  56.636362  6.086922  127.924610  coffee\n",
              "2197  118  33  30    24.131797  67.225123  6.362608  173.322839  coffee\n",
              "2198  117  32  34    26.272418  52.127394  6.758793  127.175293  coffee\n",
              "2199  104  18  30    23.603016  60.396475  6.779833  140.937041  coffee"
            ]
          },
          "execution_count": 5,
          "metadata": {},
          "output_type": "execute_result"
        }
      ],
      "source": [
        "crop.tail()"
      ]
    },
    {
      "cell_type": "code",
      "execution_count": 6,
      "metadata": {
        "colab": {
          "base_uri": "https://localhost:8080/"
        },
        "id": "S0j8pBD6jlqn",
        "outputId": "72efa2b4-97b4-4b22-ad49-09cadcc7c981"
      },
      "outputs": [
        {
          "data": {
            "text/plain": [
              "N                int64\n",
              "P                int64\n",
              "K                int64\n",
              "temperature    float64\n",
              "humidity       float64\n",
              "ph             float64\n",
              "rainfall       float64\n",
              "label           object\n",
              "dtype: object"
            ]
          },
          "execution_count": 6,
          "metadata": {},
          "output_type": "execute_result"
        }
      ],
      "source": [
        "crop.dtypes"
      ]
    },
    {
      "cell_type": "code",
      "execution_count": 7,
      "metadata": {
        "colab": {
          "base_uri": "https://localhost:8080/"
        },
        "id": "KJB3dF9DjpNr",
        "outputId": "ea50e149-9421-4617-f929-587fb25d1daa"
      },
      "outputs": [
        {
          "data": {
            "text/plain": [
              "N              0\n",
              "P              0\n",
              "K              0\n",
              "temperature    0\n",
              "humidity       0\n",
              "ph             0\n",
              "rainfall       0\n",
              "label          0\n",
              "dtype: int64"
            ]
          },
          "execution_count": 7,
          "metadata": {},
          "output_type": "execute_result"
        }
      ],
      "source": [
        "crop.isna().sum()#null values sum"
      ]
    },
    {
      "cell_type": "code",
      "execution_count": 8,
      "metadata": {
        "colab": {
          "base_uri": "https://localhost:8080/",
          "height": 300
        },
        "id": "eG0BXNI0jw12",
        "outputId": "9b5c91d3-74ae-4138-da2f-16ca3ed08a0b"
      },
      "outputs": [
        {
          "data": {
            "text/html": [
              "<div>\n",
              "<style scoped>\n",
              "    .dataframe tbody tr th:only-of-type {\n",
              "        vertical-align: middle;\n",
              "    }\n",
              "\n",
              "    .dataframe tbody tr th {\n",
              "        vertical-align: top;\n",
              "    }\n",
              "\n",
              "    .dataframe thead th {\n",
              "        text-align: right;\n",
              "    }\n",
              "</style>\n",
              "<table border=\"1\" class=\"dataframe\">\n",
              "  <thead>\n",
              "    <tr style=\"text-align: right;\">\n",
              "      <th></th>\n",
              "      <th>N</th>\n",
              "      <th>P</th>\n",
              "      <th>K</th>\n",
              "      <th>temperature</th>\n",
              "      <th>humidity</th>\n",
              "      <th>ph</th>\n",
              "      <th>rainfall</th>\n",
              "    </tr>\n",
              "  </thead>\n",
              "  <tbody>\n",
              "    <tr>\n",
              "      <th>count</th>\n",
              "      <td>2200.000000</td>\n",
              "      <td>2200.000000</td>\n",
              "      <td>2200.000000</td>\n",
              "      <td>2200.000000</td>\n",
              "      <td>2200.000000</td>\n",
              "      <td>2200.000000</td>\n",
              "      <td>2200.000000</td>\n",
              "    </tr>\n",
              "    <tr>\n",
              "      <th>mean</th>\n",
              "      <td>50.551818</td>\n",
              "      <td>53.362727</td>\n",
              "      <td>48.149091</td>\n",
              "      <td>25.616244</td>\n",
              "      <td>71.481779</td>\n",
              "      <td>6.469480</td>\n",
              "      <td>103.463655</td>\n",
              "    </tr>\n",
              "    <tr>\n",
              "      <th>std</th>\n",
              "      <td>36.917334</td>\n",
              "      <td>32.985883</td>\n",
              "      <td>50.647931</td>\n",
              "      <td>5.063749</td>\n",
              "      <td>22.263812</td>\n",
              "      <td>0.773938</td>\n",
              "      <td>54.958389</td>\n",
              "    </tr>\n",
              "    <tr>\n",
              "      <th>min</th>\n",
              "      <td>0.000000</td>\n",
              "      <td>5.000000</td>\n",
              "      <td>5.000000</td>\n",
              "      <td>8.825675</td>\n",
              "      <td>14.258040</td>\n",
              "      <td>3.504752</td>\n",
              "      <td>20.211267</td>\n",
              "    </tr>\n",
              "    <tr>\n",
              "      <th>25%</th>\n",
              "      <td>21.000000</td>\n",
              "      <td>28.000000</td>\n",
              "      <td>20.000000</td>\n",
              "      <td>22.769375</td>\n",
              "      <td>60.261953</td>\n",
              "      <td>5.971693</td>\n",
              "      <td>64.551686</td>\n",
              "    </tr>\n",
              "    <tr>\n",
              "      <th>50%</th>\n",
              "      <td>37.000000</td>\n",
              "      <td>51.000000</td>\n",
              "      <td>32.000000</td>\n",
              "      <td>25.598693</td>\n",
              "      <td>80.473146</td>\n",
              "      <td>6.425045</td>\n",
              "      <td>94.867624</td>\n",
              "    </tr>\n",
              "    <tr>\n",
              "      <th>75%</th>\n",
              "      <td>84.250000</td>\n",
              "      <td>68.000000</td>\n",
              "      <td>49.000000</td>\n",
              "      <td>28.561654</td>\n",
              "      <td>89.948771</td>\n",
              "      <td>6.923643</td>\n",
              "      <td>124.267508</td>\n",
              "    </tr>\n",
              "    <tr>\n",
              "      <th>max</th>\n",
              "      <td>140.000000</td>\n",
              "      <td>145.000000</td>\n",
              "      <td>205.000000</td>\n",
              "      <td>43.675493</td>\n",
              "      <td>99.981876</td>\n",
              "      <td>9.935091</td>\n",
              "      <td>298.560117</td>\n",
              "    </tr>\n",
              "  </tbody>\n",
              "</table>\n",
              "</div>"
            ],
            "text/plain": [
              "                 N            P            K  temperature     humidity  \\\n",
              "count  2200.000000  2200.000000  2200.000000  2200.000000  2200.000000   \n",
              "mean     50.551818    53.362727    48.149091    25.616244    71.481779   \n",
              "std      36.917334    32.985883    50.647931     5.063749    22.263812   \n",
              "min       0.000000     5.000000     5.000000     8.825675    14.258040   \n",
              "25%      21.000000    28.000000    20.000000    22.769375    60.261953   \n",
              "50%      37.000000    51.000000    32.000000    25.598693    80.473146   \n",
              "75%      84.250000    68.000000    49.000000    28.561654    89.948771   \n",
              "max     140.000000   145.000000   205.000000    43.675493    99.981876   \n",
              "\n",
              "                ph     rainfall  \n",
              "count  2200.000000  2200.000000  \n",
              "mean      6.469480   103.463655  \n",
              "std       0.773938    54.958389  \n",
              "min       3.504752    20.211267  \n",
              "25%       5.971693    64.551686  \n",
              "50%       6.425045    94.867624  \n",
              "75%       6.923643   124.267508  \n",
              "max       9.935091   298.560117  "
            ]
          },
          "execution_count": 8,
          "metadata": {},
          "output_type": "execute_result"
        }
      ],
      "source": [
        "crop.describe()"
      ]
    },
    {
      "cell_type": "markdown",
      "metadata": {
        "id": "0p8FhuH7EkR2"
      },
      "source": [
        "## data visualization"
      ]
    },
    {
      "cell_type": "code",
      "execution_count": 9,
      "metadata": {
        "colab": {
          "base_uri": "https://localhost:8080/",
          "height": 466
        },
        "id": "nFhLV2lRj3WO",
        "outputId": "843680af-bf20-4a09-aa5b-29263c7dd9b1"
      },
      "outputs": [
        {
          "data": {
            "text/plain": [
              "<Axes: xlabel='P', ylabel='Density'>"
            ]
          },
          "execution_count": 9,
          "metadata": {},
          "output_type": "execute_result"
        },
        {
          "data": {
            "image/png": "[encoded data removed]",
            "text/plain": [
              "<Figure size 640x480 with 1 Axes>"
            ]
          },
          "metadata": {},
          "output_type": "display_data"
        }
      ],
      "source": [
        "sns.distplot(crop['P'])"
      ]
    },
    {
      "cell_type": "code",
      "execution_count": 10,
      "metadata": {
        "colab": {
          "base_uri": "https://localhost:8080/",
          "height": 269
        },
        "id": "ldc9x3rxlJ3t",
        "outputId": "039c7b49-4ba2-4d04-e66e-bb4403ced146"
      },
      "outputs": [
        {
          "ename": "ValueError",
          "evalue": "could not convert string to float: 'rice'",
          "output_type": "error",
          "traceback": [
            "\u001b[1;31m---------------------------------------------------------------------------\u001b[0m",
            "\u001b[1;31mValueError\u001b[0m                                Traceback (most recent call last)",
            "Cell \u001b[1;32mIn[10], line 1\u001b[0m\n\u001b[1;32m----> 1\u001b[0m corr\u001b[38;5;241m=\u001b[39m\u001b[43mcrop\u001b[49m\u001b[38;5;241;43m.\u001b[39;49m\u001b[43mcorr\u001b[49m\u001b[43m(\u001b[49m\u001b[43m)\u001b[49m\n\u001b[0;32m      2\u001b[0m corr\n",
            "File \u001b[1;32mc:\\Users\\satvik Varma\\Downloads\\farmeasyy_new\\.venv\\Lib\\site-packages\\pandas\\core\\frame.py:11049\u001b[0m, in \u001b[0;36mDataFrame.corr\u001b[1;34m(self, method, min_periods, numeric_only)\u001b[0m\n\u001b[0;32m  11047\u001b[0m cols \u001b[38;5;241m=\u001b[39m data\u001b[38;5;241m.\u001b[39mcolumns\n\u001b[0;32m  11048\u001b[0m idx \u001b[38;5;241m=\u001b[39m cols\u001b[38;5;241m.\u001b[39mcopy()\n\u001b[1;32m> 11049\u001b[0m mat \u001b[38;5;241m=\u001b[39m \u001b[43mdata\u001b[49m\u001b[38;5;241;43m.\u001b[39;49m\u001b[43mto_numpy\u001b[49m\u001b[43m(\u001b[49m\u001b[43mdtype\u001b[49m\u001b[38;5;241;43m=\u001b[39;49m\u001b[38;5;28;43mfloat\u001b[39;49m\u001b[43m,\u001b[49m\u001b[43m \u001b[49m\u001b[43mna_value\u001b[49m\u001b[38;5;241;43m=\u001b[39;49m\u001b[43mnp\u001b[49m\u001b[38;5;241;43m.\u001b[39;49m\u001b[43mnan\u001b[49m\u001b[43m,\u001b[49m\u001b[43m \u001b[49m\u001b[43mcopy\u001b[49m\u001b[38;5;241;43m=\u001b[39;49m\u001b[38;5;28;43;01mFalse\u001b[39;49;00m\u001b[43m)\u001b[49m\n\u001b[0;32m  11051\u001b[0m \u001b[38;5;28;01mif\u001b[39;00m method \u001b[38;5;241m==\u001b[39m \u001b[38;5;124m\"\u001b[39m\u001b[38;5;124mpearson\u001b[39m\u001b[38;5;124m\"\u001b[39m:\n\u001b[0;32m  11052\u001b[0m     correl \u001b[38;5;241m=\u001b[39m libalgos\u001b[38;5;241m.\u001b[39mnancorr(mat, minp\u001b[38;5;241m=\u001b[39mmin_periods)\n",
            "File \u001b[1;32mc:\\Users\\satvik Varma\\Downloads\\farmeasyy_new\\.venv\\Lib\\site-packages\\pandas\\core\\frame.py:1993\u001b[0m, in \u001b[0;36mDataFrame.to_numpy\u001b[1;34m(self, dtype, copy, na_value)\u001b[0m\n\u001b[0;32m   1991\u001b[0m \u001b[38;5;28;01mif\u001b[39;00m dtype \u001b[38;5;129;01mis\u001b[39;00m \u001b[38;5;129;01mnot\u001b[39;00m \u001b[38;5;28;01mNone\u001b[39;00m:\n\u001b[0;32m   1992\u001b[0m     dtype \u001b[38;5;241m=\u001b[39m np\u001b[38;5;241m.\u001b[39mdtype(dtype)\n\u001b[1;32m-> 1993\u001b[0m result \u001b[38;5;241m=\u001b[39m \u001b[38;5;28;43mself\u001b[39;49m\u001b[38;5;241;43m.\u001b[39;49m\u001b[43m_mgr\u001b[49m\u001b[38;5;241;43m.\u001b[39;49m\u001b[43mas_array\u001b[49m\u001b[43m(\u001b[49m\u001b[43mdtype\u001b[49m\u001b[38;5;241;43m=\u001b[39;49m\u001b[43mdtype\u001b[49m\u001b[43m,\u001b[49m\u001b[43m \u001b[49m\u001b[43mcopy\u001b[49m\u001b[38;5;241;43m=\u001b[39;49m\u001b[43mcopy\u001b[49m\u001b[43m,\u001b[49m\u001b[43m \u001b[49m\u001b[43mna_value\u001b[49m\u001b[38;5;241;43m=\u001b[39;49m\u001b[43mna_value\u001b[49m\u001b[43m)\u001b[49m\n\u001b[0;32m   1994\u001b[0m \u001b[38;5;28;01mif\u001b[39;00m result\u001b[38;5;241m.\u001b[39mdtype \u001b[38;5;129;01mis\u001b[39;00m \u001b[38;5;129;01mnot\u001b[39;00m dtype:\n\u001b[0;32m   1995\u001b[0m     result \u001b[38;5;241m=\u001b[39m np\u001b[38;5;241m.\u001b[39masarray(result, dtype\u001b[38;5;241m=\u001b[39mdtype)\n",
            "File \u001b[1;32mc:\\Users\\satvik Varma\\Downloads\\farmeasyy_new\\.venv\\Lib\\site-packages\\pandas\\core\\internals\\managers.py:1694\u001b[0m, in \u001b[0;36mBlockManager.as_array\u001b[1;34m(self, dtype, copy, na_value)\u001b[0m\n\u001b[0;32m   1692\u001b[0m         arr\u001b[38;5;241m.\u001b[39mflags\u001b[38;5;241m.\u001b[39mwriteable \u001b[38;5;241m=\u001b[39m \u001b[38;5;28;01mFalse\u001b[39;00m\n\u001b[0;32m   1693\u001b[0m \u001b[38;5;28;01melse\u001b[39;00m:\n\u001b[1;32m-> 1694\u001b[0m     arr \u001b[38;5;241m=\u001b[39m \u001b[38;5;28;43mself\u001b[39;49m\u001b[38;5;241;43m.\u001b[39;49m\u001b[43m_interleave\u001b[49m\u001b[43m(\u001b[49m\u001b[43mdtype\u001b[49m\u001b[38;5;241;43m=\u001b[39;49m\u001b[43mdtype\u001b[49m\u001b[43m,\u001b[49m\u001b[43m \u001b[49m\u001b[43mna_value\u001b[49m\u001b[38;5;241;43m=\u001b[39;49m\u001b[43mna_value\u001b[49m\u001b[43m)\u001b[49m\n\u001b[0;32m   1695\u001b[0m     \u001b[38;5;66;03m# The underlying data was copied within _interleave, so no need\u001b[39;00m\n\u001b[0;32m   1696\u001b[0m     \u001b[38;5;66;03m# to further copy if copy=True or setting na_value\u001b[39;00m\n\u001b[0;32m   1698\u001b[0m \u001b[38;5;28;01mif\u001b[39;00m na_value \u001b[38;5;129;01mis\u001b[39;00m lib\u001b[38;5;241m.\u001b[39mno_default:\n",
            "File \u001b[1;32mc:\\Users\\satvik Varma\\Downloads\\farmeasyy_new\\.venv\\Lib\\site-packages\\pandas\\core\\internals\\managers.py:1753\u001b[0m, in \u001b[0;36mBlockManager._interleave\u001b[1;34m(self, dtype, na_value)\u001b[0m\n\u001b[0;32m   1751\u001b[0m     \u001b[38;5;28;01melse\u001b[39;00m:\n\u001b[0;32m   1752\u001b[0m         arr \u001b[38;5;241m=\u001b[39m blk\u001b[38;5;241m.\u001b[39mget_values(dtype)\n\u001b[1;32m-> 1753\u001b[0m     \u001b[43mresult\u001b[49m\u001b[43m[\u001b[49m\u001b[43mrl\u001b[49m\u001b[38;5;241;43m.\u001b[39;49m\u001b[43mindexer\u001b[49m\u001b[43m]\u001b[49m \u001b[38;5;241m=\u001b[39m arr\n\u001b[0;32m   1754\u001b[0m     itemmask[rl\u001b[38;5;241m.\u001b[39mindexer] \u001b[38;5;241m=\u001b[39m \u001b[38;5;241m1\u001b[39m\n\u001b[0;32m   1756\u001b[0m \u001b[38;5;28;01mif\u001b[39;00m \u001b[38;5;129;01mnot\u001b[39;00m itemmask\u001b[38;5;241m.\u001b[39mall():\n",
            "\u001b[1;31mValueError\u001b[0m: could not convert string to float: 'rice'"
          ]
        }
      ],
      "source": [
        "corr=crop.corr()\n",
        "corr"
      ]
    },
    {
      "cell_type": "markdown",
      "metadata": {
        "id": "FPXnX4x1EZRP"
      },
      "source": [
        "###confusion_matrix"
      ]
    },
    {
      "cell_type": "code",
      "execution_count": null,
      "metadata": {
        "colab": {
          "base_uri": "https://localhost:8080/",
          "height": 526
        },
        "id": "BmhssA2xlM6i",
        "outputId": "601774c8-4cff-44f3-f999-ed8cdd4258d3"
      },
      "outputs": [
        {
          "data": {
            "text/plain": [
              "<Axes: >"
            ]
          },
          "execution_count": 11,
          "metadata": {},
          "output_type": "execute_result"
        },
        {
          "data": {
            "image/png": "[encoded data removed]",
            "text/plain": [
              "<Figure size 640x480 with 2 Axes>"
            ]
          },
          "metadata": {},
          "output_type": "display_data"
        }
      ],
      "source": [
        "sns.heatmap(corr,annot=True,cbar=True)\n",
        "#we can see that their is a positive correlation between phosphurus and potasium"
      ]
    },
    {
      "cell_type": "code",
      "execution_count": null,
      "metadata": {
        "colab": {
          "base_uri": "https://localhost:8080/"
        },
        "id": "8y7_azd1lrsU",
        "outputId": "613c17fd-9341-4f91-ddc8-bffcf3f146b3"
      },
      "outputs": [
        {
          "data": {
            "text/plain": [
              "rice           100\n",
              "maize          100\n",
              "jute           100\n",
              "cotton         100\n",
              "coconut        100\n",
              "papaya         100\n",
              "orange         100\n",
              "apple          100\n",
              "muskmelon      100\n",
              "watermelon     100\n",
              "grapes         100\n",
              "mango          100\n",
              "banana         100\n",
              "pomegranate    100\n",
              "lentil         100\n",
              "blackgram      100\n",
              "mungbean       100\n",
              "mothbeans      100\n",
              "pigeonpeas     100\n",
              "kidneybeans    100\n",
              "chickpea       100\n",
              "coffee         100\n",
              "Name: label, dtype: int64"
            ]
          },
          "execution_count": 12,
          "metadata": {},
          "output_type": "execute_result"
        }
      ],
      "source": [
        "crop[\"label\"].value_counts()"
      ]
    },
    {
      "cell_type": "code",
      "execution_count": null,
      "metadata": {
        "colab": {
          "base_uri": "https://localhost:8080/",
          "height": 423
        },
        "id": "KA70WsJO-Rj6",
        "outputId": "1da9f7a1-5c08-420a-ae68-1b9b28f367f1"
      },
      "outputs": [
        {
          "data": {
            "text/html": [
              "\n",
              "  <div id=\"df-1f71c0a6-9d7b-441d-b6b8-da3c21783189\" class=\"colab-df-container\">\n",
              "    <div>\n",
              "<style scoped>\n",
              "    .dataframe tbody tr th:only-of-type {\n",
              "        vertical-align: middle;\n",
              "    }\n",
              "\n",
              "    .dataframe tbody tr th {\n",
              "        vertical-align: top;\n",
              "    }\n",
              "\n",
              "    .dataframe thead th {\n",
              "        text-align: right;\n",
              "    }\n",
              "</style>\n",
              "<table border=\"1\" class=\"dataframe\">\n",
              "  <thead>\n",
              "    <tr style=\"text-align: right;\">\n",
              "      <th></th>\n",
              "      <th>N</th>\n",
              "      <th>P</th>\n",
              "      <th>K</th>\n",
              "      <th>temperature</th>\n",
              "      <th>humidity</th>\n",
              "      <th>ph</th>\n",
              "      <th>rainfall</th>\n",
              "      <th>label</th>\n",
              "    </tr>\n",
              "  </thead>\n",
              "  <tbody>\n",
              "    <tr>\n",
              "      <th>0</th>\n",
              "      <td>90</td>\n",
              "      <td>42</td>\n",
              "      <td>43</td>\n",
              "      <td>20.879744</td>\n",
              "      <td>82.002744</td>\n",
              "      <td>6.502985</td>\n",
              "      <td>202.935536</td>\n",
              "      <td>rice</td>\n",
              "    </tr>\n",
              "    <tr>\n",
              "      <th>1</th>\n",
              "      <td>85</td>\n",
              "      <td>58</td>\n",
              "      <td>41</td>\n",
              "      <td>21.770462</td>\n",
              "      <td>80.319644</td>\n",
              "      <td>7.038096</td>\n",
              "      <td>226.655537</td>\n",
              "      <td>rice</td>\n",
              "    </tr>\n",
              "    <tr>\n",
              "      <th>2</th>\n",
              "      <td>60</td>\n",
              "      <td>55</td>\n",
              "      <td>44</td>\n",
              "      <td>23.004459</td>\n",
              "      <td>82.320763</td>\n",
              "      <td>7.840207</td>\n",
              "      <td>263.964248</td>\n",
              "      <td>rice</td>\n",
              "    </tr>\n",
              "    <tr>\n",
              "      <th>3</th>\n",
              "      <td>74</td>\n",
              "      <td>35</td>\n",
              "      <td>40</td>\n",
              "      <td>26.491096</td>\n",
              "      <td>80.158363</td>\n",
              "      <td>6.980401</td>\n",
              "      <td>242.864034</td>\n",
              "      <td>rice</td>\n",
              "    </tr>\n",
              "    <tr>\n",
              "      <th>4</th>\n",
              "      <td>78</td>\n",
              "      <td>42</td>\n",
              "      <td>42</td>\n",
              "      <td>20.130175</td>\n",
              "      <td>81.604873</td>\n",
              "      <td>7.628473</td>\n",
              "      <td>262.717340</td>\n",
              "      <td>rice</td>\n",
              "    </tr>\n",
              "    <tr>\n",
              "      <th>...</th>\n",
              "      <td>...</td>\n",
              "      <td>...</td>\n",
              "      <td>...</td>\n",
              "      <td>...</td>\n",
              "      <td>...</td>\n",
              "      <td>...</td>\n",
              "      <td>...</td>\n",
              "      <td>...</td>\n",
              "    </tr>\n",
              "    <tr>\n",
              "      <th>2195</th>\n",
              "      <td>107</td>\n",
              "      <td>34</td>\n",
              "      <td>32</td>\n",
              "      <td>26.774637</td>\n",
              "      <td>66.413269</td>\n",
              "      <td>6.780064</td>\n",
              "      <td>177.774507</td>\n",
              "      <td>coffee</td>\n",
              "    </tr>\n",
              "    <tr>\n",
              "      <th>2196</th>\n",
              "      <td>99</td>\n",
              "      <td>15</td>\n",
              "      <td>27</td>\n",
              "      <td>27.417112</td>\n",
              "      <td>56.636362</td>\n",
              "      <td>6.086922</td>\n",
              "      <td>127.924610</td>\n",
              "      <td>coffee</td>\n",
              "    </tr>\n",
              "    <tr>\n",
              "      <th>2197</th>\n",
              "      <td>118</td>\n",
              "      <td>33</td>\n",
              "      <td>30</td>\n",
              "      <td>24.131797</td>\n",
              "      <td>67.225123</td>\n",
              "      <td>6.362608</td>\n",
              "      <td>173.322839</td>\n",
              "      <td>coffee</td>\n",
              "    </tr>\n",
              "    <tr>\n",
              "      <th>2198</th>\n",
              "      <td>117</td>\n",
              "      <td>32</td>\n",
              "      <td>34</td>\n",
              "      <td>26.272418</td>\n",
              "      <td>52.127394</td>\n",
              "      <td>6.758793</td>\n",
              "      <td>127.175293</td>\n",
              "      <td>coffee</td>\n",
              "    </tr>\n",
              "    <tr>\n",
              "      <th>2199</th>\n",
              "      <td>104</td>\n",
              "      <td>18</td>\n",
              "      <td>30</td>\n",
              "      <td>23.603016</td>\n",
              "      <td>60.396475</td>\n",
              "      <td>6.779833</td>\n",
              "      <td>140.937041</td>\n",
              "      <td>coffee</td>\n",
              "    </tr>\n",
              "  </tbody>\n",
              "</table>\n",
              "<p>2200 rows × 8 columns</p>\n",
              "</div>\n",
              "    <div class=\"colab-df-buttons\">\n",
              "\n",
              "  <div class=\"colab-df-container\">\n",
              "    <button class=\"colab-df-convert\" onclick=\"convertToInteractive('df-1f71c0a6-9d7b-441d-b6b8-da3c21783189')\"\n",
              "            title=\"Convert this dataframe to an interactive table.\"\n",
              "            style=\"display:none;\">\n",
              "\n",
              "  <svg xmlns=\"http://www.w3.org/2000/svg\" height=\"24px\" viewBox=\"0 -960 960 960\">\n",
              "    <path d=\"M120-120v-720h720v720H120Zm60-500h600v-160H180v160Zm220 220h160v-160H400v160Zm0 220h160v-160H400v160ZM180-400h160v-160H180v160Zm440 0h160v-160H620v160ZM180-180h160v-160H180v160Zm440 0h160v-160H620v160Z\"/>\n",
              "  </svg>\n",
              "    </button>\n",
              "\n",
              "  <style>\n",
              "    .colab-df-container {\n",
              "      display:flex;\n",
              "      gap: 12px;\n",
              "    }\n",
              "\n",
              "    .colab-df-convert {\n",
              "      background-color: #E8F0FE;\n",
              "      border: none;\n",
              "      border-radius: 50%;\n",
              "      cursor: pointer;\n",
              "      display: none;\n",
              "      fill: #1967D2;\n",
              "      height: 32px;\n",
              "      padding: 0 0 0 0;\n",
              "      width: 32px;\n",
              "    }\n",
              "\n",
              "    .colab-df-convert:hover {\n",
              "      background-color: #E2EBFA;\n",
              "      box-shadow: 0px 1px 2px rgba(60, 64, 67, 0.3), 0px 1px 3px 1px rgba(60, 64, 67, 0.15);\n",
              "      fill: #174EA6;\n",
              "    }\n",
              "\n",
              "    .colab-df-buttons div {\n",
              "      margin-bottom: 4px;\n",
              "    }\n",
              "\n",
              "    [theme=dark] .colab-df-convert {\n",
              "      background-color: #3B4455;\n",
              "      fill: #D2E3FC;\n",
              "    }\n",
              "\n",
              "    [theme=dark] .colab-df-convert:hover {\n",
              "      background-color: #434B5C;\n",
              "      box-shadow: 0px 1px 3px 1px rgba(0, 0, 0, 0.15);\n",
              "      filter: drop-shadow(0px 1px 2px rgba(0, 0, 0, 0.3));\n",
              "      fill: #FFFFFF;\n",
              "    }\n",
              "  </style>\n",
              "\n",
              "    <script>\n",
              "      const buttonEl =\n",
              "        document.querySelector('#df-1f71c0a6-9d7b-441d-b6b8-da3c21783189 button.colab-df-convert');\n",
              "      buttonEl.style.display =\n",
              "        google.colab.kernel.accessAllowed ? 'block' : 'none';\n",
              "\n",
              "      async function convertToInteractive(key) {\n",
              "        const element = document.querySelector('#df-1f71c0a6-9d7b-441d-b6b8-da3c21783189');\n",
              "        const dataTable =\n",
              "          await google.colab.kernel.invokeFunction('convertToInteractive',\n",
              "                                                    [key], {});\n",
              "        if (!dataTable) return;\n",
              "\n",
              "        const docLinkHtml = 'Like what you see? Visit the ' +\n",
              "          '<a target=\"_blank\" href=https://colab.research.google.com/notebooks/data_table.ipynb>data table notebook</a>'\n",
              "          + ' to learn more about interactive tables.';\n",
              "        element.innerHTML = '';\n",
              "        dataTable['output_type'] = 'display_data';\n",
              "        await google.colab.output.renderOutput(dataTable, element);\n",
              "        const docLink = document.createElement('div');\n",
              "        docLink.innerHTML = docLinkHtml;\n",
              "        element.appendChild(docLink);\n",
              "      }\n",
              "    </script>\n",
              "  </div>\n",
              "\n",
              "\n",
              "<div id=\"df-d7e8c27e-a575-41e5-bf82-a1bcf640f044\">\n",
              "  <button class=\"colab-df-quickchart\" onclick=\"quickchart('df-d7e8c27e-a575-41e5-bf82-a1bcf640f044')\"\n",
              "            title=\"Suggest charts.\"\n",
              "            style=\"display:none;\">\n",
              "\n",
              "<svg xmlns=\"http://www.w3.org/2000/svg\" height=\"24px\"viewBox=\"0 0 24 24\"\n",
              "     width=\"24px\">\n",
              "    <g>\n",
              "        <path d=\"M19 3H5c-1.1 0-2 .9-2 2v14c0 1.1.9 2 2 2h14c1.1 0 2-.9 2-2V5c0-1.1-.9-2-2-2zM9 17H7v-7h2v7zm4 0h-2V7h2v10zm4 0h-2v-4h2v4z\"/>\n",
              "    </g>\n",
              "</svg>\n",
              "  </button>\n",
              "\n",
              "<style>\n",
              "  .colab-df-quickchart {\n",
              "      --bg-color: #E8F0FE;\n",
              "      --fill-color: #1967D2;\n",
              "      --hover-bg-color: #E2EBFA;\n",
              "      --hover-fill-color: #174EA6;\n",
              "      --disabled-fill-color: #AAA;\n",
              "      --disabled-bg-color: #DDD;\n",
              "  }\n",
              "\n",
              "  [theme=dark] .colab-df-quickchart {\n",
              "      --bg-color: #3B4455;\n",
              "      --fill-color: #D2E3FC;\n",
              "      --hover-bg-color: #434B5C;\n",
              "      --hover-fill-color: #FFFFFF;\n",
              "      --disabled-bg-color: #3B4455;\n",
              "      --disabled-fill-color: #666;\n",
              "  }\n",
              "\n",
              "  .colab-df-quickchart {\n",
              "    background-color: var(--bg-color);\n",
              "    border: none;\n",
              "    border-radius: 50%;\n",
              "    cursor: pointer;\n",
              "    display: none;\n",
              "    fill: var(--fill-color);\n",
              "    height: 32px;\n",
              "    padding: 0;\n",
              "    width: 32px;\n",
              "  }\n",
              "\n",
              "  .colab-df-quickchart:hover {\n",
              "    background-color: var(--hover-bg-color);\n",
              "    box-shadow: 0 1px 2px rgba(60, 64, 67, 0.3), 0 1px 3px 1px rgba(60, 64, 67, 0.15);\n",
              "    fill: var(--button-hover-fill-color);\n",
              "  }\n",
              "\n",
              "  .colab-df-quickchart-complete:disabled,\n",
              "  .colab-df-quickchart-complete:disabled:hover {\n",
              "    background-color: var(--disabled-bg-color);\n",
              "    fill: var(--disabled-fill-color);\n",
              "    box-shadow: none;\n",
              "  }\n",
              "\n",
              "  .colab-df-spinner {\n",
              "    border: 2px solid var(--fill-color);\n",
              "    border-color: transparent;\n",
              "    border-bottom-color: var(--fill-color);\n",
              "    animation:\n",
              "      spin 1s steps(1) infinite;\n",
              "  }\n",
              "\n",
              "  @keyframes spin {\n",
              "    0% {\n",
              "      border-color: transparent;\n",
              "      border-bottom-color: var(--fill-color);\n",
              "      border-left-color: var(--fill-color);\n",
              "    }\n",
              "    20% {\n",
              "      border-color: transparent;\n",
              "      border-left-color: var(--fill-color);\n",
              "      border-top-color: var(--fill-color);\n",
              "    }\n",
              "    30% {\n",
              "      border-color: transparent;\n",
              "      border-left-color: var(--fill-color);\n",
              "      border-top-color: var(--fill-color);\n",
              "      border-right-color: var(--fill-color);\n",
              "    }\n",
              "    40% {\n",
              "      border-color: transparent;\n",
              "      border-right-color: var(--fill-color);\n",
              "      border-top-color: var(--fill-color);\n",
              "    }\n",
              "    60% {\n",
              "      border-color: transparent;\n",
              "      border-right-color: var(--fill-color);\n",
              "    }\n",
              "    80% {\n",
              "      border-color: transparent;\n",
              "      border-right-color: var(--fill-color);\n",
              "      border-bottom-color: var(--fill-color);\n",
              "    }\n",
              "    90% {\n",
              "      border-color: transparent;\n",
              "      border-bottom-color: var(--fill-color);\n",
              "    }\n",
              "  }\n",
              "</style>\n",
              "\n",
              "  <script>\n",
              "    async function quickchart(key) {\n",
              "      const quickchartButtonEl =\n",
              "        document.querySelector('#' + key + ' button');\n",
              "      quickchartButtonEl.disabled = true;  // To prevent multiple clicks.\n",
              "      quickchartButtonEl.classList.add('colab-df-spinner');\n",
              "      try {\n",
              "        const charts = await google.colab.kernel.invokeFunction(\n",
              "            'suggestCharts', [key], {});\n",
              "      } catch (error) {\n",
              "        console.error('Error during call to suggestCharts:', error);\n",
              "      }\n",
              "      quickchartButtonEl.classList.remove('colab-df-spinner');\n",
              "      quickchartButtonEl.classList.add('colab-df-quickchart-complete');\n",
              "    }\n",
              "    (() => {\n",
              "      let quickchartButtonEl =\n",
              "        document.querySelector('#df-d7e8c27e-a575-41e5-bf82-a1bcf640f044 button');\n",
              "      quickchartButtonEl.style.display =\n",
              "        google.colab.kernel.accessAllowed ? 'block' : 'none';\n",
              "    })();\n",
              "  </script>\n",
              "</div>\n",
              "    </div>\n",
              "  </div>\n"
            ],
            "text/plain": [
              "        N   P   K  temperature   humidity        ph    rainfall   label\n",
              "0      90  42  43    20.879744  82.002744  6.502985  202.935536    rice\n",
              "1      85  58  41    21.770462  80.319644  7.038096  226.655537    rice\n",
              "2      60  55  44    23.004459  82.320763  7.840207  263.964248    rice\n",
              "3      74  35  40    26.491096  80.158363  6.980401  242.864034    rice\n",
              "4      78  42  42    20.130175  81.604873  7.628473  262.717340    rice\n",
              "...   ...  ..  ..          ...        ...       ...         ...     ...\n",
              "2195  107  34  32    26.774637  66.413269  6.780064  177.774507  coffee\n",
              "2196   99  15  27    27.417112  56.636362  6.086922  127.924610  coffee\n",
              "2197  118  33  30    24.131797  67.225123  6.362608  173.322839  coffee\n",
              "2198  117  32  34    26.272418  52.127394  6.758793  127.175293  coffee\n",
              "2199  104  18  30    23.603016  60.396475  6.779833  140.937041  coffee\n",
              "\n",
              "[2200 rows x 8 columns]"
            ]
          },
          "execution_count": 13,
          "metadata": {},
          "output_type": "execute_result"
        }
      ],
      "source": [
        "crop"
      ]
    },
    {
      "cell_type": "code",
      "execution_count": null,
      "metadata": {
        "id": "X6dwEPxtoo1u"
      },
      "outputs": [],
      "source": [
        "X = df[['N', 'P','K','temperature', 'humidity', 'ph', 'rainfall']]\n",
        "y = df['label']\n"
      ]
    },
    {
      "cell_type": "code",
      "execution_count": null,
      "metadata": {
        "colab": {
          "base_uri": "https://localhost:8080/"
        },
        "id": "z-ndxrTC-4Ql",
        "outputId": "ce6c6930-eb46-406a-9769-cdd75b63b1a8"
      },
      "outputs": [
        {
          "data": {
            "text/plain": [
              "0         rice\n",
              "1         rice\n",
              "2         rice\n",
              "3         rice\n",
              "4         rice\n",
              "         ...  \n",
              "2195    coffee\n",
              "2196    coffee\n",
              "2197    coffee\n",
              "2198    coffee\n",
              "2199    coffee\n",
              "Name: label, Length: 2200, dtype: object"
            ]
          },
          "execution_count": 15,
          "metadata": {},
          "output_type": "execute_result"
        }
      ],
      "source": [
        "y"
      ]
    },
    {
      "cell_type": "code",
      "execution_count": null,
      "metadata": {
        "colab": {
          "base_uri": "https://localhost:8080/",
          "height": 423
        },
        "id": "e2rZZ5Hv-66B",
        "outputId": "be52babd-bf20-4458-ee6c-a07da1923deb"
      },
      "outputs": [
        {
          "data": {
            "text/html": [
              "\n",
              "  <div id=\"df-94c593ca-efd9-42c0-83e1-ed8e066325d8\" class=\"colab-df-container\">\n",
              "    <div>\n",
              "<style scoped>\n",
              "    .dataframe tbody tr th:only-of-type {\n",
              "        vertical-align: middle;\n",
              "    }\n",
              "\n",
              "    .dataframe tbody tr th {\n",
              "        vertical-align: top;\n",
              "    }\n",
              "\n",
              "    .dataframe thead th {\n",
              "        text-align: right;\n",
              "    }\n",
              "</style>\n",
              "<table border=\"1\" class=\"dataframe\">\n",
              "  <thead>\n",
              "    <tr style=\"text-align: right;\">\n",
              "      <th></th>\n",
              "      <th>N</th>\n",
              "      <th>P</th>\n",
              "      <th>K</th>\n",
              "      <th>temperature</th>\n",
              "      <th>humidity</th>\n",
              "      <th>ph</th>\n",
              "      <th>rainfall</th>\n",
              "    </tr>\n",
              "  </thead>\n",
              "  <tbody>\n",
              "    <tr>\n",
              "      <th>0</th>\n",
              "      <td>90</td>\n",
              "      <td>42</td>\n",
              "      <td>43</td>\n",
              "      <td>20.879744</td>\n",
              "      <td>82.002744</td>\n",
              "      <td>6.502985</td>\n",
              "      <td>202.935536</td>\n",
              "    </tr>\n",
              "    <tr>\n",
              "      <th>1</th>\n",
              "      <td>85</td>\n",
              "      <td>58</td>\n",
              "      <td>41</td>\n",
              "      <td>21.770462</td>\n",
              "      <td>80.319644</td>\n",
              "      <td>7.038096</td>\n",
              "      <td>226.655537</td>\n",
              "    </tr>\n",
              "    <tr>\n",
              "      <th>2</th>\n",
              "      <td>60</td>\n",
              "      <td>55</td>\n",
              "      <td>44</td>\n",
              "      <td>23.004459</td>\n",
              "      <td>82.320763</td>\n",
              "      <td>7.840207</td>\n",
              "      <td>263.964248</td>\n",
              "    </tr>\n",
              "    <tr>\n",
              "      <th>3</th>\n",
              "      <td>74</td>\n",
              "      <td>35</td>\n",
              "      <td>40</td>\n",
              "      <td>26.491096</td>\n",
              "      <td>80.158363</td>\n",
              "      <td>6.980401</td>\n",
              "      <td>242.864034</td>\n",
              "    </tr>\n",
              "    <tr>\n",
              "      <th>4</th>\n",
              "      <td>78</td>\n",
              "      <td>42</td>\n",
              "      <td>42</td>\n",
              "      <td>20.130175</td>\n",
              "      <td>81.604873</td>\n",
              "      <td>7.628473</td>\n",
              "      <td>262.717340</td>\n",
              "    </tr>\n",
              "    <tr>\n",
              "      <th>...</th>\n",
              "      <td>...</td>\n",
              "      <td>...</td>\n",
              "      <td>...</td>\n",
              "      <td>...</td>\n",
              "      <td>...</td>\n",
              "      <td>...</td>\n",
              "      <td>...</td>\n",
              "    </tr>\n",
              "    <tr>\n",
              "      <th>2195</th>\n",
              "      <td>107</td>\n",
              "      <td>34</td>\n",
              "      <td>32</td>\n",
              "      <td>26.774637</td>\n",
              "      <td>66.413269</td>\n",
              "      <td>6.780064</td>\n",
              "      <td>177.774507</td>\n",
              "    </tr>\n",
              "    <tr>\n",
              "      <th>2196</th>\n",
              "      <td>99</td>\n",
              "      <td>15</td>\n",
              "      <td>27</td>\n",
              "      <td>27.417112</td>\n",
              "      <td>56.636362</td>\n",
              "      <td>6.086922</td>\n",
              "      <td>127.924610</td>\n",
              "    </tr>\n",
              "    <tr>\n",
              "      <th>2197</th>\n",
              "      <td>118</td>\n",
              "      <td>33</td>\n",
              "      <td>30</td>\n",
              "      <td>24.131797</td>\n",
              "      <td>67.225123</td>\n",
              "      <td>6.362608</td>\n",
              "      <td>173.322839</td>\n",
              "    </tr>\n",
              "    <tr>\n",
              "      <th>2198</th>\n",
              "      <td>117</td>\n",
              "      <td>32</td>\n",
              "      <td>34</td>\n",
              "      <td>26.272418</td>\n",
              "      <td>52.127394</td>\n",
              "      <td>6.758793</td>\n",
              "      <td>127.175293</td>\n",
              "    </tr>\n",
              "    <tr>\n",
              "      <th>2199</th>\n",
              "      <td>104</td>\n",
              "      <td>18</td>\n",
              "      <td>30</td>\n",
              "      <td>23.603016</td>\n",
              "      <td>60.396475</td>\n",
              "      <td>6.779833</td>\n",
              "      <td>140.937041</td>\n",
              "    </tr>\n",
              "  </tbody>\n",
              "</table>\n",
              "<p>2200 rows × 7 columns</p>\n",
              "</div>\n",
              "    <div class=\"colab-df-buttons\">\n",
              "\n",
              "  <div class=\"colab-df-container\">\n",
              "    <button class=\"colab-df-convert\" onclick=\"convertToInteractive('df-94c593ca-efd9-42c0-83e1-ed8e066325d8')\"\n",
              "            title=\"Convert this dataframe to an interactive table.\"\n",
              "            style=\"display:none;\">\n",
              "\n",
              "  <svg xmlns=\"http://www.w3.org/2000/svg\" height=\"24px\" viewBox=\"0 -960 960 960\">\n",
              "    <path d=\"M120-120v-720h720v720H120Zm60-500h600v-160H180v160Zm220 220h160v-160H400v160Zm0 220h160v-160H400v160ZM180-400h160v-160H180v160Zm440 0h160v-160H620v160ZM180-180h160v-160H180v160Zm440 0h160v-160H620v160Z\"/>\n",
              "  </svg>\n",
              "    </button>\n",
              "\n",
              "  <style>\n",
              "    .colab-df-container {\n",
              "      display:flex;\n",
              "      gap: 12px;\n",
              "    }\n",
              "\n",
              "    .colab-df-convert {\n",
              "      background-color: #E8F0FE;\n",
              "      border: none;\n",
              "      border-radius: 50%;\n",
              "      cursor: pointer;\n",
              "      display: none;\n",
              "      fill: #1967D2;\n",
              "      height: 32px;\n",
              "      padding: 0 0 0 0;\n",
              "      width: 32px;\n",
              "    }\n",
              "\n",
              "    .colab-df-convert:hover {\n",
              "      background-color: #E2EBFA;\n",
              "      box-shadow: 0px 1px 2px rgba(60, 64, 67, 0.3), 0px 1px 3px 1px rgba(60, 64, 67, 0.15);\n",
              "      fill: #174EA6;\n",
              "    }\n",
              "\n",
              "    .colab-df-buttons div {\n",
              "      margin-bottom: 4px;\n",
              "    }\n",
              "\n",
              "    [theme=dark] .colab-df-convert {\n",
              "      background-color: #3B4455;\n",
              "      fill: #D2E3FC;\n",
              "    }\n",
              "\n",
              "    [theme=dark] .colab-df-convert:hover {\n",
              "      background-color: #434B5C;\n",
              "      box-shadow: 0px 1px 3px 1px rgba(0, 0, 0, 0.15);\n",
              "      filter: drop-shadow(0px 1px 2px rgba(0, 0, 0, 0.3));\n",
              "      fill: #FFFFFF;\n",
              "    }\n",
              "  </style>\n",
              "\n",
              "    <script>\n",
              "      const buttonEl =\n",
              "        document.querySelector('#df-94c593ca-efd9-42c0-83e1-ed8e066325d8 button.colab-df-convert');\n",
              "      buttonEl.style.display =\n",
              "        google.colab.kernel.accessAllowed ? 'block' : 'none';\n",
              "\n",
              "      async function convertToInteractive(key) {\n",
              "        const element = document.querySelector('#df-94c593ca-efd9-42c0-83e1-ed8e066325d8');\n",
              "        const dataTable =\n",
              "          await google.colab.kernel.invokeFunction('convertToInteractive',\n",
              "                                                    [key], {});\n",
              "        if (!dataTable) return;\n",
              "\n",
              "        const docLinkHtml = 'Like what you see? Visit the ' +\n",
              "          '<a target=\"_blank\" href=https://colab.research.google.com/notebooks/data_table.ipynb>data table notebook</a>'\n",
              "          + ' to learn more about interactive tables.';\n",
              "        element.innerHTML = '';\n",
              "        dataTable['output_type'] = 'display_data';\n",
              "        await google.colab.output.renderOutput(dataTable, element);\n",
              "        const docLink = document.createElement('div');\n",
              "        docLink.innerHTML = docLinkHtml;\n",
              "        element.appendChild(docLink);\n",
              "      }\n",
              "    </script>\n",
              "  </div>\n",
              "\n",
              "\n",
              "<div id=\"df-00827997-3c12-48e2-848d-37df5241a96f\">\n",
              "  <button class=\"colab-df-quickchart\" onclick=\"quickchart('df-00827997-3c12-48e2-848d-37df5241a96f')\"\n",
              "            title=\"Suggest charts.\"\n",
              "            style=\"display:none;\">\n",
              "\n",
              "<svg xmlns=\"http://www.w3.org/2000/svg\" height=\"24px\"viewBox=\"0 0 24 24\"\n",
              "     width=\"24px\">\n",
              "    <g>\n",
              "        <path d=\"M19 3H5c-1.1 0-2 .9-2 2v14c0 1.1.9 2 2 2h14c1.1 0 2-.9 2-2V5c0-1.1-.9-2-2-2zM9 17H7v-7h2v7zm4 0h-2V7h2v10zm4 0h-2v-4h2v4z\"/>\n",
              "    </g>\n",
              "</svg>\n",
              "  </button>\n",
              "\n",
              "<style>\n",
              "  .colab-df-quickchart {\n",
              "      --bg-color: #E8F0FE;\n",
              "      --fill-color: #1967D2;\n",
              "      --hover-bg-color: #E2EBFA;\n",
              "      --hover-fill-color: #174EA6;\n",
              "      --disabled-fill-color: #AAA;\n",
              "      --disabled-bg-color: #DDD;\n",
              "  }\n",
              "\n",
              "  [theme=dark] .colab-df-quickchart {\n",
              "      --bg-color: #3B4455;\n",
              "      --fill-color: #D2E3FC;\n",
              "      --hover-bg-color: #434B5C;\n",
              "      --hover-fill-color: #FFFFFF;\n",
              "      --disabled-bg-color: #3B4455;\n",
              "      --disabled-fill-color: #666;\n",
              "  }\n",
              "\n",
              "  .colab-df-quickchart {\n",
              "    background-color: var(--bg-color);\n",
              "    border: none;\n",
              "    border-radius: 50%;\n",
              "    cursor: pointer;\n",
              "    display: none;\n",
              "    fill: var(--fill-color);\n",
              "    height: 32px;\n",
              "    padding: 0;\n",
              "    width: 32px;\n",
              "  }\n",
              "\n",
              "  .colab-df-quickchart:hover {\n",
              "    background-color: var(--hover-bg-color);\n",
              "    box-shadow: 0 1px 2px rgba(60, 64, 67, 0.3), 0 1px 3px 1px rgba(60, 64, 67, 0.15);\n",
              "    fill: var(--button-hover-fill-color);\n",
              "  }\n",
              "\n",
              "  .colab-df-quickchart-complete:disabled,\n",
              "  .colab-df-quickchart-complete:disabled:hover {\n",
              "    background-color: var(--disabled-bg-color);\n",
              "    fill: var(--disabled-fill-color);\n",
              "    box-shadow: none;\n",
              "  }\n",
              "\n",
              "  .colab-df-spinner {\n",
              "    border: 2px solid var(--fill-color);\n",
              "    border-color: transparent;\n",
              "    border-bottom-color: var(--fill-color);\n",
              "    animation:\n",
              "      spin 1s steps(1) infinite;\n",
              "  }\n",
              "\n",
              "  @keyframes spin {\n",
              "    0% {\n",
              "      border-color: transparent;\n",
              "      border-bottom-color: var(--fill-color);\n",
              "      border-left-color: var(--fill-color);\n",
              "    }\n",
              "    20% {\n",
              "      border-color: transparent;\n",
              "      border-left-color: var(--fill-color);\n",
              "      border-top-color: var(--fill-color);\n",
              "    }\n",
              "    30% {\n",
              "      border-color: transparent;\n",
              "      border-left-color: var(--fill-color);\n",
              "      border-top-color: var(--fill-color);\n",
              "      border-right-color: var(--fill-color);\n",
              "    }\n",
              "    40% {\n",
              "      border-color: transparent;\n",
              "      border-right-color: var(--fill-color);\n",
              "      border-top-color: var(--fill-color);\n",
              "    }\n",
              "    60% {\n",
              "      border-color: transparent;\n",
              "      border-right-color: var(--fill-color);\n",
              "    }\n",
              "    80% {\n",
              "      border-color: transparent;\n",
              "      border-right-color: var(--fill-color);\n",
              "      border-bottom-color: var(--fill-color);\n",
              "    }\n",
              "    90% {\n",
              "      border-color: transparent;\n",
              "      border-bottom-color: var(--fill-color);\n",
              "    }\n",
              "  }\n",
              "</style>\n",
              "\n",
              "  <script>\n",
              "    async function quickchart(key) {\n",
              "      const quickchartButtonEl =\n",
              "        document.querySelector('#' + key + ' button');\n",
              "      quickchartButtonEl.disabled = true;  // To prevent multiple clicks.\n",
              "      quickchartButtonEl.classList.add('colab-df-spinner');\n",
              "      try {\n",
              "        const charts = await google.colab.kernel.invokeFunction(\n",
              "            'suggestCharts', [key], {});\n",
              "      } catch (error) {\n",
              "        console.error('Error during call to suggestCharts:', error);\n",
              "      }\n",
              "      quickchartButtonEl.classList.remove('colab-df-spinner');\n",
              "      quickchartButtonEl.classList.add('colab-df-quickchart-complete');\n",
              "    }\n",
              "    (() => {\n",
              "      let quickchartButtonEl =\n",
              "        document.querySelector('#df-00827997-3c12-48e2-848d-37df5241a96f button');\n",
              "      quickchartButtonEl.style.display =\n",
              "        google.colab.kernel.accessAllowed ? 'block' : 'none';\n",
              "    })();\n",
              "  </script>\n",
              "</div>\n",
              "    </div>\n",
              "  </div>\n"
            ],
            "text/plain": [
              "        N   P   K  temperature   humidity        ph    rainfall\n",
              "0      90  42  43    20.879744  82.002744  6.502985  202.935536\n",
              "1      85  58  41    21.770462  80.319644  7.038096  226.655537\n",
              "2      60  55  44    23.004459  82.320763  7.840207  263.964248\n",
              "3      74  35  40    26.491096  80.158363  6.980401  242.864034\n",
              "4      78  42  42    20.130175  81.604873  7.628473  262.717340\n",
              "...   ...  ..  ..          ...        ...       ...         ...\n",
              "2195  107  34  32    26.774637  66.413269  6.780064  177.774507\n",
              "2196   99  15  27    27.417112  56.636362  6.086922  127.924610\n",
              "2197  118  33  30    24.131797  67.225123  6.362608  173.322839\n",
              "2198  117  32  34    26.272418  52.127394  6.758793  127.175293\n",
              "2199  104  18  30    23.603016  60.396475  6.779833  140.937041\n",
              "\n",
              "[2200 rows x 7 columns]"
            ]
          },
          "execution_count": 16,
          "metadata": {},
          "output_type": "execute_result"
        }
      ],
      "source": [
        "X"
      ]
    },
    {
      "cell_type": "code",
      "execution_count": null,
      "metadata": {
        "colab": {
          "base_uri": "https://localhost:8080/"
        },
        "id": "woKte0GkwnxM",
        "outputId": "be95e4d6-4052-42e8-955c-a756f1f397e8"
      },
      "outputs": [
        {
          "data": {
            "text/plain": [
              "(2200, 7)"
            ]
          },
          "execution_count": 17,
          "metadata": {},
          "output_type": "execute_result"
        }
      ],
      "source": [
        "X.shape"
      ]
    },
    {
      "cell_type": "code",
      "execution_count": null,
      "metadata": {
        "id": "zw6zNuHgvmno"
      },
      "outputs": [],
      "source": [
        "from sklearn.model_selection import train_test_split\n",
        "X_train, X_test, y_train, y_test = train_test_split(X, y, test_size=0.30, random_state=42)"
      ]
    },
    {
      "cell_type": "code",
      "execution_count": null,
      "metadata": {
        "id": "56AQEoY5b1zJ"
      },
      "outputs": [],
      "source": [
        "acc=[]\n",
        "model=[]"
      ]
    },
    {
      "cell_type": "code",
      "execution_count": null,
      "metadata": {
        "colab": {
          "base_uri": "https://localhost:8080/"
        },
        "id": "mq9AGSLryVH0",
        "outputId": "f22f837d-8647-439c-a160-831c4ed9c76e"
      },
      "outputs": [
        {
          "data": {
            "text/plain": [
              "0.9939393939393939"
            ]
          },
          "execution_count": 20,
          "metadata": {},
          "output_type": "execute_result"
        }
      ],
      "source": [
        "from sklearn.naive_bayes import GaussianNB\n",
        "\n",
        "NaiveBayes = GaussianNB()\n",
        "\n",
        "NaiveBayes.fit(X_train,y_train)\n",
        "x=(accuracy_score(y_test,NaiveBayes.predict(X_test)))\n",
        "acc.append(x)\n",
        "model.append('GAUSSIAN_NAVIE_BAYES')\n",
        "x"
      ]
    },
    {
      "cell_type": "code",
      "execution_count": null,
      "metadata": {
        "colab": {
          "base_uri": "https://localhost:8080/"
        },
        "id": "2FpoutSfZRUP",
        "outputId": "91392566-9228-46b3-d82c-5263f88d9620"
      },
      "outputs": [
        {
          "name": "stdout",
          "output_type": "stream",
          "text": [
            "Best Hyperparameters: {'max_depth': 10, 'min_samples_split': 5, 'n_estimators': 400}\n",
            "Best Accuracy: 0.990909090909091\n"
          ]
        }
      ],
      "source": [
        "from sklearn.ensemble import RandomForestClassifier\n",
        "from sklearn.model_selection import GridSearchCV\n",
        "from sklearn.metrics import accuracy_score\n",
        "\n",
        "# Assuming you have loaded your data into X_train and X_test, and your target variables in y_train and y_test.\n",
        "\n",
        "# Create a RandomForestClassifier\n",
        "RF = RandomForestClassifier(random_state=0)\n",
        "\n",
        "# Define the hyperparameter grid to search\n",
        "param_grid = {\n",
        "    'n_estimators': [100, 200, 300,400],\n",
        "    'max_depth': [None, 10, 20, 30],\n",
        "    'min_samples_split': [2, 5, 10]\n",
        "}\n",
        "\n",
        "# Create a GridSearchCV object with RandomForestClassifier and the hyperparameter grid\n",
        "grid_search = GridSearchCV(estimator=RF, param_grid=param_grid, scoring='accuracy', cv=3)\n",
        "\n",
        "# Fit the model with GridSearch to find the best hyperparameters\n",
        "grid_search.fit(X_train, y_train)\n",
        "\n",
        "# Get the best parameters and the corresponding best accuracy score\n",
        "best_params = grid_search.best_params_\n",
        "best_score = grid_search.best_score_\n",
        "\n",
        "# Create a RandomForestClassifier with the best hyperparameters\n",
        "best_RF = RandomForestClassifier(random_state=0, **best_params)\n",
        "\n",
        "# Fit the best model on the entire training set\n",
        "best_RF.fit(X_train, y_train)\n",
        "\n",
        "# Make predictions on the test set\n",
        "predicted_values = best_RF.predict(X_test)\n",
        "\n",
        "# Calculate accuracy\n",
        "accuracy = accuracy_score(y_test, predicted_values)\n",
        "x=accuracy\n",
        "# Print the best hyperparameters and the accuracy\n",
        "print(\"Best Hyperparameters:\", best_params)\n",
        "print(\"Best Accuracy:\", accuracy)\n",
        "acc.append(x)\n",
        "model.append('RANDOM FOREST')"
      ]
    },
    {
      "cell_type": "code",
      "execution_count": null,
      "metadata": {
        "colab": {
          "base_uri": "https://localhost:8080/"
        },
        "id": "f9nJT7s91xQV",
        "outputId": "19c691e6-0080-4027-c241-c33eb9f75a7f"
      },
      "outputs": [
        {
          "data": {
            "text/plain": [
              "0.9878787878787879"
            ]
          },
          "execution_count": 22,
          "metadata": {},
          "output_type": "execute_result"
        }
      ],
      "source": [
        "from sklearn.ensemble import BaggingClassifier\n",
        "from sklearn.metrics import accuracy_score\n",
        "\n",
        "bg=BaggingClassifier()\n",
        "bg.fit(X_train,y_train)\n",
        "x=(accuracy_score(y_test,bg.predict(X_test)))\n",
        "acc.append(x)\n",
        "model.append('BAGGING_CLASSIFIER')\n",
        "x"
      ]
    },
    {
      "cell_type": "code",
      "execution_count": null,
      "metadata": {
        "colab": {
          "base_uri": "https://localhost:8080/"
        },
        "id": "clpGWq5K2Y1J",
        "outputId": "9dc71183-6026-4a15-8f53-0af73b65ef83"
      },
      "outputs": [
        {
          "name": "stdout",
          "output_type": "stream",
          "text": [
            "Accuracy: 0.9833333333333333\n",
            "Precision: 0.9843896068965352\n",
            "Recall: 0.9833333333333333\n",
            "F1 Score: 0.9831644752992027\n",
            "Confusion Matrix:\n",
            "[[34  0  0  0  0  0  0  0  0  0  0  0  0  0  0  0  0  0  0  0  0  0]\n",
            " [ 0 26  0  0  0  0  0  0  0  0  0  0  0  0  0  0  0  0  0  0  0  0]\n",
            " [ 0  0 26  0  0  0  0  0  0  0  0  0  0  0  0  0  0  0  0  0  0  0]\n",
            " [ 0  0  0 34  0  0  0  0  0  0  0  0  0  0  0  0  0  0  0  0  0  0]\n",
            " [ 0  0  0  0 33  0  0  0  0  0  0  0  0  0  0  0  0  0  0  0  0  0]\n",
            " [ 0  0  0  0  0 30  0  0  0  0  0  0  0  0  0  0  0  0  0  0  0  0]\n",
            " [ 0  0  0  0  0  0 28  0  0  0  0  0  0  0  0  0  0  0  0  0  0  0]\n",
            " [ 0  0  0  0  0  0  0 23  0  0  0  0  0  0  0  0  0  0  0  0  0  0]\n",
            " [ 0  0  0  0  0  0  0  0 33  0  0  0  0  0  0  0  0  0  0  0  1  0]\n",
            " [ 0  0  0  0  0  0  0  0  0 36  0  0  0  0  0  0  0  0  0  0  0  0]\n",
            " [ 0  0  0  0  0  0  0  0  0  0 22  0  0  0  0  0  0  0  0  0  0  0]\n",
            " [ 0  0  0  0  0  0  1  0  0  0  0 25  0  0  0  0  0  0  0  0  0  0]\n",
            " [ 0  0  0  0  0  0  0  0  0  0  0  0 32  0  0  0  0  0  0  0  0  0]\n",
            " [ 0  0  0  0  0  0  0  0  0  0  1  0  0 33  0  0  0  0  0  0  0  0]\n",
            " [ 0  0  0  0  0  0  0  0  0  0  0  0  0  0 30  0  0  0  0  0  0  0]\n",
            " [ 0  0  0  0  0  0  0  0  0  0  0  0  0  0  0 24  0  0  0  0  0  0]\n",
            " [ 0  0  0  0  0  0  0  0  0  0  0  0  0  0  0  0 25  0  0  0  0  0]\n",
            " [ 0  0  0  0  0  0  0  0  0  0  0  0  0  0  0  0  0 37  0  0  0  0]\n",
            " [ 0  0  1  0  0  0  0  0  0  0  0  0  1  0  0  0  0  0 35  0  0  0]\n",
            " [ 0  0  0  0  0  0  0  0  0  0  0  0  0  0  0  0  0  0  0 38  0  0]\n",
            " [ 0  0  0  0  0  0  0  0  6  0  0  0  0  0  0  0  0  0  0  0 22  0]\n",
            " [ 0  0  0  0  0  0  0  0  0  0  0  0  0  0  0  0  0  0  0  0  0 23]]\n"
          ]
        }
      ],
      "source": [
        "from sklearn.ensemble import GradientBoostingClassifier\n",
        "from sklearn.metrics import accuracy_score\n",
        "\n",
        "gbc=GradientBoostingClassifier()\n",
        "gbc.fit(X_train,y_train)\n",
        "ypred=gbc.predict(X_test)\n",
        "# Calculate accuracy\n",
        "x=(accuracy_score(y_test,gbc.predict(X_test)))\n",
        "acc.append(x)\n",
        "model.append('GRADIENT_BOOSTING_CLASSIFIER')\n",
        "\n",
        "accuracy = accuracy_score(y_test, ypred)\n",
        "print(\"Accuracy:\", accuracy)\n",
        "\n",
        "# Calculate precision with 'weighted' averaging\n",
        "precision = precision_score(y_test, ypred, average='weighted')\n",
        "print(\"Precision:\", precision)\n",
        "\n",
        "# Calculate recall with 'weighted' averaging\n",
        "recall = recall_score(y_test, ypred, average='weighted')\n",
        "print(\"Recall:\", recall)\n",
        "\n",
        "# Calculate F1-score with 'weighted' averaging\n",
        "f1 = f1_score(y_test, ypred, average='weighted')\n",
        "print(\"F1 Score:\", f1)\n",
        "\n",
        "# Calculate confusion matrix\n",
        "conf_matrix = confusion_matrix(y_test, ypred)\n",
        "print(\"Confusion Matrix:\")\n",
        "print(conf_matrix)"
      ]
    },
    {
      "cell_type": "code",
      "execution_count": null,
      "metadata": {
        "colab": {
          "base_uri": "https://localhost:8080/"
        },
        "id": "huDhHZ553FOm",
        "outputId": "35d69383-b70d-45e6-bba8-b2c6ee97d68b"
      },
      "outputs": [
        {
          "name": "stdout",
          "output_type": "stream",
          "text": [
            "Accuracy: 0.9121212121212121\n",
            "Precision: 0.9147140020684735\n",
            "Recall: 0.9121212121212121\n",
            "F1 Score: 0.9118314309407949\n",
            "Confusion Matrix:\n",
            "[[32  0  0  0  0  0  0  2  0  0  0  0  0  0  0  0  0  0  0  0  0  0]\n",
            " [ 0 25  0  0  0  0  0  0  0  0  0  0  0  0  0  0  0  1  0  0  0  0]\n",
            " [ 0  0 24  0  0  0  0  0  0  0  2  0  0  0  0  0  0  0  0  0  0  0]\n",
            " [ 0  0  0 34  0  0  0  0  0  0  0  0  0  0  0  0  0  0  0  0  0  0]\n",
            " [ 0  0  0  0 29  3  0  0  0  0  0  0  0  0  0  0  1  0  0  0  0  0]\n",
            " [ 0  0  0  0  2 26  0  0  1  0  0  1  0  0  0  0  0  0  0  0  0  0]\n",
            " [ 0  0  0  0  0  0 28  0  0  0  0  0  0  0  0  0  0  0  0  0  0  0]\n",
            " [ 1  0  0  0  0  0  0 22  0  0  0  0  0  0  0  0  0  0  0  0  0  0]\n",
            " [ 0  0  0  0  0  3  0  0 28  0  0  0  0  0  0  0  0  1  0  0  2  0]\n",
            " [ 0  0  0  0  0  0  0  0  0 35  0  0  0  0  0  0  0  0  1  0  0  0]\n",
            " [ 0  0  1  0  0  0  0  0  0  0 20  0  0  1  0  0  0  0  0  0  0  0]\n",
            " [ 0  0  1  0  0  0  1  0  0  0  0 21  0  2  1  0  0  0  0  0  0  0]\n",
            " [ 0  0  0  0  0  1  0  0  0  0  0  0 31  0  0  0  0  0  0  0  0  0]\n",
            " [ 0  0  0  0  0  0  0  0  0  0  3  1  0 24  1  0  4  0  1  0  0  0]\n",
            " [ 0  0  0  0  0  0  0  0  0  0  0  0  0  2 28  0  0  0  0  0  0  0]\n",
            " [ 0  0  0  0  0  0  0  0  0  0  0  0  0  0  0 24  0  0  0  0  0  0]\n",
            " [ 0  0  0  0  0  1  0  0  0  0  0  0  0  0  0  0 24  0  0  0  0  0]\n",
            " [ 0  0  0  0  0  0  0  0  0  0  0  0  0  0  0  0  0 37  0  0  0  0]\n",
            " [ 0  0  0  0  0  0  0  0  0  2  0  4  0  3  0  0  0  0 28  0  0  0]\n",
            " [ 0  0  0  0  0  0  0  0  0  0  0  0  0  0  0  0  0  0  0 38  0  0]\n",
            " [ 0  0  0  0  0  1  0  0  6  0  0  0  0  0  0  0  0  0  0  0 21  0]\n",
            " [ 0  0  0  0  0  0  0  0  0  0  0  0  0  0  0  0  0  0  0  0  0 23]]\n"
          ]
        }
      ],
      "source": [
        "from sklearn.tree import ExtraTreeClassifier\n",
        "from sklearn.metrics import accuracy_score, precision_score, recall_score, f1_score, confusion_matrix\n",
        "\n",
        "et=ExtraTreeClassifier()\n",
        "et.fit(X_train,y_train)\n",
        "ypred=et.predict(X_test)\n",
        "x=(accuracy_score(y_test,et.predict(X_test)))\n",
        "acc.append(x)\n",
        "model.append('EXTRA_TREE_CLASSIFIER')\n",
        "# Calculate accuracy\n",
        "accuracy = accuracy_score(y_test, ypred)\n",
        "print(\"Accuracy:\", accuracy)\n",
        "\n",
        "# Calculate precision with 'weighted' averaging\n",
        "precision = precision_score(y_test, ypred, average='weighted')\n",
        "print(\"Precision:\", precision)\n",
        "\n",
        "# Calculate recall with 'weighted' averaging\n",
        "recall = recall_score(y_test, ypred, average='weighted')\n",
        "print(\"Recall:\", recall)\n",
        "\n",
        "# Calculate F1-score with 'weighted' averaging\n",
        "f1 = f1_score(y_test, ypred, average='weighted')\n",
        "print(\"F1 Score:\", f1)\n",
        "\n",
        "# Calculate confusion matrix\n",
        "conf_matrix = confusion_matrix(y_test, ypred)\n",
        "print(\"Confusion Matrix:\")\n",
        "print(conf_matrix)"
      ]
    },
    {
      "cell_type": "code",
      "execution_count": null,
      "metadata": {
        "colab": {
          "base_uri": "https://localhost:8080/"
        },
        "id": "0Zmyv4QL3Rrv",
        "outputId": "9abe7dac-5e7b-45a4-828a-2158f286d167"
      },
      "outputs": [
        {
          "name": "stdout",
          "output_type": "stream",
          "text": [
            "Accuracy: 0.9818181818181818\n",
            "Precision: 0.982426158513115\n",
            "Recall: 0.9818181818181818\n",
            "F1 Score: 0.9815889193115738\n",
            "Confusion Matrix:\n",
            "[[34  0  0  0  0  0  0  0  0  0  0  0  0  0  0  0  0  0  0  0  0  0]\n",
            " [ 0 26  0  0  0  0  0  0  0  0  0  0  0  0  0  0  0  0  0  0  0  0]\n",
            " [ 0  0 26  0  0  0  0  0  0  0  0  0  0  0  0  0  0  0  0  0  0  0]\n",
            " [ 0  0  0 33  0  0  0  0  0  0  0  1  0  0  0  0  0  0  0  0  0  0]\n",
            " [ 0  0  0  0 33  0  0  0  0  0  0  0  0  0  0  0  0  0  0  0  0  0]\n",
            " [ 0  0  0  0  0 30  0  0  0  0  0  0  0  0  0  0  0  0  0  0  0  0]\n",
            " [ 0  0  0  0  0  0 28  0  0  0  0  0  0  0  0  0  0  0  0  0  0  0]\n",
            " [ 0  0  0  0  0  0  0 23  0  0  0  0  0  0  0  0  0  0  0  0  0  0]\n",
            " [ 0  0  0  0  0  0  0  0 32  0  0  0  0  0  0  0  0  0  0  0  2  0]\n",
            " [ 0  0  0  0  0  0  0  0  0 36  0  0  0  0  0  0  0  0  0  0  0  0]\n",
            " [ 0  0  0  0  0  0  0  0  0  0 22  0  0  0  0  0  0  0  0  0  0  0]\n",
            " [ 0  0  0  0  0  0  0  0  0  0  0 26  0  0  0  0  0  0  0  0  0  0]\n",
            " [ 0  0  0  0  0  0  0  0  0  0  0  0 32  0  0  0  0  0  0  0  0  0]\n",
            " [ 0  0  2  0  0  0  0  0  0  0  1  0  0 31  0  0  0  0  0  0  0  0]\n",
            " [ 0  0  0  0  0  0  0  0  0  0  0  0  0  0 30  0  0  0  0  0  0  0]\n",
            " [ 0  0  0  0  0  0  0  0  0  0  0  0  0  0  0 24  0  0  0  0  0  0]\n",
            " [ 0  0  0  0  0  0  0  0  0  0  0  0  0  0  0  0 25  0  0  0  0  0]\n",
            " [ 0  0  0  0  0  0  0  0  0  0  0  0  0  0  0  0  0 37  0  0  0  0]\n",
            " [ 0  0  0  0  0  0  0  0  0  0  0  0  0  0  0  0  0  0 37  0  0  0]\n",
            " [ 0  0  0  0  0  0  0  0  0  0  0  0  0  0  0  0  0  0  0 38  0  0]\n",
            " [ 0  0  0  0  0  0  0  0  5  0  0  1  0  0  0  0  0  0  0  0 22  0]\n",
            " [ 0  0  0  0  0  0  0  0  0  0  0  0  0  0  0  0  0  0  0  0  0 23]]\n"
          ]
        }
      ],
      "source": [
        "from sklearn.tree import DecisionTreeClassifier\n",
        "from sklearn.metrics import accuracy_score\n",
        "\n",
        "dt=DecisionTreeClassifier()\n",
        "dt.fit(X_train,y_train)\n",
        "ypred=dt.predict(X_test)\n",
        "x=(accuracy_score(y_test,dt.predict(X_test)))\n",
        "acc.append(x)\n",
        "model.append('DECISION_TREE_CLASSIFIER')\n",
        "# Calculate accuracy\n",
        "accuracy = accuracy_score(y_test, ypred)\n",
        "print(\"Accuracy:\", accuracy)\n",
        "\n",
        "# Calculate precision with 'weighted' averaging\n",
        "precision = precision_score(y_test, ypred, average='weighted')\n",
        "print(\"Precision:\", precision)\n",
        "\n",
        "# Calculate recall with 'weighted' averaging\n",
        "recall = recall_score(y_test, ypred, average='weighted')\n",
        "print(\"Recall:\", recall)\n",
        "\n",
        "# Calculate F1-score with 'weighted' averaging\n",
        "f1 = f1_score(y_test, ypred, average='weighted')\n",
        "print(\"F1 Score:\", f1)\n",
        "\n",
        "# Calculate confusion matrix\n",
        "conf_matrix = confusion_matrix(y_test, ypred)\n",
        "print(\"Confusion Matrix:\")\n",
        "print(conf_matrix)"
      ]
    },
    {
      "cell_type": "code",
      "execution_count": null,
      "metadata": {
        "id": "Yg4v6fz73gey"
      },
      "outputs": [],
      "source": [
        "from sklearn.svm import SVC\n",
        "from sklearn.metrics import accuracy_score\n",
        "\n",
        "svc=SVC()\n",
        "svc.fit(X_train,y_train)\n",
        "ypred=svc.predict(X_test)\n",
        "x=(accuracy_score(y_test,svc.predict(X_test)))\n",
        "acc.append(x)\n",
        "model.append('SUPPORT_VECTOR_CLASSIFIER')"
      ]
    },
    {
      "cell_type": "code",
      "execution_count": null,
      "metadata": {
        "id": "w6f12mkd3r8_"
      },
      "outputs": [],
      "source": [
        "from sklearn.neighbors import KNeighborsClassifier\n",
        "from sklearn.metrics import accuracy_score\n",
        "\n",
        "knb=KNeighborsClassifier()\n",
        "knb.fit(X_train,y_train)\n",
        "ypred=knb.predict(X_test)\n",
        "x=(accuracy_score(y_test,knb.predict(X_test)))\n",
        "acc.append(x)\n",
        "model.append('KNEIGHBOURS_CLASSIFIER')"
      ]
    },
    {
      "cell_type": "code",
      "execution_count": null,
      "metadata": {
        "colab": {
          "base_uri": "https://localhost:8080/"
        },
        "id": "WO8E9k2aeEPh",
        "outputId": "014d56a5-0c36-4341-84e9-d03db95abadd"
      },
      "outputs": [
        {
          "ename": "ModuleNotFoundError",
          "evalue": "No module named 'xgboost'",
          "output_type": "error",
          "traceback": [
            "\u001b[1;31m---------------------------------------------------------------------------\u001b[0m",
            "\u001b[1;31mModuleNotFoundError\u001b[0m                       Traceback (most recent call last)",
            "Cell \u001b[1;32mIn[1], line 1\u001b[0m\n\u001b[1;32m----> 1\u001b[0m \u001b[38;5;28;01mimport\u001b[39;00m \u001b[38;5;21;01mxgboost\u001b[39;00m \u001b[38;5;28;01mas\u001b[39;00m \u001b[38;5;21;01mxgb\u001b[39;00m\n\u001b[0;32m      2\u001b[0m \u001b[38;5;28;01mfrom\u001b[39;00m \u001b[38;5;21;01msklearn\u001b[39;00m\u001b[38;5;21;01m.\u001b[39;00m\u001b[38;5;21;01mpreprocessing\u001b[39;00m \u001b[38;5;28;01mimport\u001b[39;00m LabelEncoder\n\u001b[0;32m      3\u001b[0m \u001b[38;5;28;01mfrom\u001b[39;00m \u001b[38;5;21;01msklearn\u001b[39;00m\u001b[38;5;21;01m.\u001b[39;00m\u001b[38;5;21;01mmodel_selection\u001b[39;00m \u001b[38;5;28;01mimport\u001b[39;00m GridSearchCV\n",
            "\u001b[1;31mModuleNotFoundError\u001b[0m: No module named 'xgboost'"
          ]
        }
      ],
      "source": [
        "import xgboost as xgb\n",
        "from sklearn.preprocessing import LabelEncoder\n",
        "from sklearn.model_selection import GridSearchCV\n",
        "from sklearn import metrics\n",
        "\n",
        "# Assuming you have already loaded your data into X_train and X_test, and your target variables in y_train and y_test.\n",
        "\n",
        "# Encode the target variables\n",
        "le = LabelEncoder()\n",
        "y_train_encoded = le.fit_transform(y_train)\n",
        "y_test_encoded = le.transform(y_test)\n",
        "\n",
        "# Create an XGBoost classifier\n",
        "XGB = xgb.XGBClassifier()\n",
        "\n",
        "# Define the hyperparameter grid to search\n",
        "param_grid = {\n",
        "    'max_depth': [3, 4, 5],\n",
        "    'learning_rate': [0.01, 0.1, 0.2],\n",
        "    'n_estimators': [100, 200, 300],\n",
        "    'min_child_weight': [1, 2, 3]\n",
        "}\n",
        "\n",
        "# Create a GridSearchCV object with XGBoost classifier and hyperparameter grid\n",
        "grid_search = GridSearchCV(estimator=XGB, param_grid=param_grid, scoring='accuracy', cv=3)\n",
        "\n",
        "# Fit the model with GridSearch to find the best hyperparameters\n",
        "grid_search.fit(X_train, y_train_encoded)\n",
        "\n",
        "# Get the best parameters and the corresponding best accuracy score\n",
        "best_params = grid_search.best_params_\n",
        "best_score = grid_search.best_score_\n",
        "\n",
        "# Create an XGBoost classifier with the best hyperparameters\n",
        "best_XGB = xgb.XGBClassifier(**best_params)\n",
        "\n",
        "# Fit the best model on the entire training set\n",
        "best_XGB.fit(X_train, y_train_encoded)\n",
        "\n",
        "# Make predictions on the test set\n",
        "predicted_values = best_XGB.predict(X_test)\n",
        "\n",
        "# Calculate accuracy\n",
        "accuracy = metrics.accuracy_score(y_test_encoded, predicted_values)\n",
        "\n",
        "# Print the best hyperparameters and the accuracy\n",
        "print(\"Best Hyperparameters:\", best_params)\n",
        "print(\"Best Accuracy:\", accuracy)\n",
        "x=accuracy\n",
        "acc.append(x)\n",
        "model.append('XGBOOST')\n"
      ]
    },
    {
      "cell_type": "code",
      "execution_count": null,
      "metadata": {
        "colab": {
          "base_uri": "https://localhost:8080/"
        },
        "id": "BVDghjJFe6RM",
        "outputId": "ab59fba9-208a-48bc-b507-6f4fd628ce2b"
      },
      "outputs": [
        {
          "name": "stdout",
          "output_type": "stream",
          "text": [
            "accuarcy:0.9939393939393939 of GAUSSIAN_NAVIE_BAYES\n",
            "accuarcy:0.990909090909091 of RANDOM FOREST\n",
            "accuarcy:0.9878787878787879 of BAGGING_CLASSIFIER\n",
            "accuarcy:0.9833333333333333 of GRADIENT_BOOSTING_CLASSIFIER\n",
            "accuarcy:0.9121212121212121 of EXTRA_TREE_CLASSIFIER\n",
            "accuarcy:0.9818181818181818 of DECISION_TREE_CLASSIFIER\n",
            "accuarcy:0.9636363636363636 of SUPPORT_VECTOR_CLASSIFIER\n",
            "accuarcy:0.9772727272727273 of KNEIGHBOURS_CLASSIFIER\n",
            "accuarcy:0.9848484848484849 of XGBOOST\n"
          ]
        }
      ],
      "source": [
        "for i in range(0,9):\n",
        "  print(f\"accuarcy:{acc[i]} of {model[i]}\")"
      ]
    },
    {
      "cell_type": "code",
      "execution_count": null,
      "metadata": {
        "colab": {
          "base_uri": "https://localhost:8080/"
        },
        "id": "iQcWihaHeXGg",
        "outputId": "295ad57a-84d8-43ca-e308-1de4afa31ed0"
      },
      "outputs": [
        {
          "data": {
            "text/plain": [
              "<Axes: title={'center': 'Accuracy Comparison'}, xlabel='Accuracy', ylabel='Algorithm'>"
            ]
          },
          "execution_count": 30,
          "metadata": {},
          "output_type": "execute_result"
        },
        {
          "data": {
            "image/png": "[encoded data removed]",
            "text/plain": [
              "<Figure size 1000x500 with 1 Axes>"
            ]
          },
          "metadata": {},
          "output_type": "display_data"
        }
      ],
      "source": [
        "plt.figure(figsize=[10,5],dpi = 100)\n",
        "plt.title('Accuracy Comparison')\n",
        "plt.xlabel('Accuracy')\n",
        "plt.ylabel('Algorithm')\n",
        "sns.barplot(x = acc,y = model,palette='dark')"
      ]
    },
    {
      "cell_type": "markdown",
      "metadata": {
        "id": "9rWbsqbRERop"
      },
      "source": [
        "##saving the model"
      ]
    },
    {
      "cell_type": "code",
      "execution_count": null,
      "metadata": {
        "id": "nDbymRDB5trJ"
      },
      "outputs": [],
      "source": [
        "import pickle\n",
        "pickle.dump(NaiveBayes,open(\"model_NaiveBayes.pkl\",\"wb\"))"
      ]
    },
    {
      "cell_type": "code",
      "execution_count": null,
      "metadata": {
        "colab": {
          "base_uri": "https://localhost:8080/"
        },
        "id": "cvNX8cdIUqDh",
        "outputId": "695f0d58-aec4-4336-fee8-31a36dc30326"
      },
      "outputs": [
        {
          "name": "stdout",
          "output_type": "stream",
          "text": [
            "maize\n"
          ]
        }
      ],
      "source": [
        "# best model\n",
        "data = np.array([[83, 45, 60, 28, 70.3, 7.0, 150.9]])\n",
        "d=X.iloc[100]\n",
        "prediction = NaiveBayes.predict(np.array([d]))\n",
        "print(prediction[0])"
      ]
    },
    {
      "cell_type": "code",
      "execution_count": null,
      "metadata": {
        "id": "uvbXWr2dkoyY"
      },
      "outputs": [],
      "source": []
    }
  ],
  "metadata": {
    "accelerator": "GPU",
    "colab": {
      "provenance": []
    },
    "kernelspec": {
      "display_name": "Python 3",
      "name": "python3"
    },
    "language_info": {
      "codemirror_mode": {
        "name": "ipython",
        "version": 3
      },
      "file_extension": ".py",
      "mimetype": "text/x-python",
      "name": "python",
      "nbconvert_exporter": "python",
      "pygments_lexer": "ipython3",
      "version": "3.12.2"
    }
  },
  "nbformat": 4,
  "nbformat_minor": 0
}
